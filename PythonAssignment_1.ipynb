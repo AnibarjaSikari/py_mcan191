{
 "cells": [
  {
   "cell_type": "markdown",
   "metadata": {
    "id": "YHiuRixk97RP"
   },
   "source": [
    "Q1. Ramesh’s basic salary is input through the keyboard. His dearness allowance is 40% of basic\n",
    "salary, and house rent allowance is 20% of basic salary. Write a program to calculate his gross\n",
    "salary."
   ]
  },
  {
   "cell_type": "code",
   "execution_count": null,
   "metadata": {
    "id": "ALCAdZrK97RS"
   },
   "outputs": [],
   "source": [
    "# gross_salary = basic_salary + DA + HRA\n",
    "# gross_salary = basic_salary + (basic_salary * 0.4) + (basic_salary * 0.2)\n",
    "\n",
    "basic_salary = float(input(\"Enter basic salary : \"))\n",
    "print(\"Basic Salary = \", basic_salary)\n",
    "print(\"Dearness Allowance = \", basic_salary * 0.4)\n",
    "print(\"House Rent Allowance = \", basic_salary * 0.2)\n",
    "print(\"Gross Salary = \", basic_salary + (basic_salary * 0.4) + (basic_salary * 0.2))"
   ]
  },
  {
   "cell_type": "markdown",
   "metadata": {
    "id": "F5BU-R4897RT"
   },
   "source": [
    "Q2. The distance between two cities (in km.) is input through the keyboard. Write a program to\n",
    "convert and print this distance in meters, feet, inches and centimeters."
   ]
  },
  {
   "cell_type": "code",
   "execution_count": null,
   "metadata": {
    "id": "KeQbNAsA97RT"
   },
   "outputs": [],
   "source": [
    "# km to meters feet inches and cms\n",
    "# 1 km = 1000 m\n",
    "# 1 km = 3.281 * 1000 feet\n",
    "# 1 km = 39370.1 inch / 39.37 * 1000 inch\n",
    "# 1 km = 100 * 1000 cms\n",
    "\n",
    "kms = float(input(\"Enter distance in KM : \"))\n",
    "print(\"Your given distance is\",kms,\"KM\")\n",
    "print(kms,\"KM =\",(kms * 1000),\"Meters\")\n",
    "print(kms,\"KM =\",(kms * 1000 * 100),\"cms\")\n",
    "print(kms,\"KM =\",(((kms * 100000) / 2.54)/12),\"feet\")\n",
    "print(kms,\"KM =\",((kms * 100000) / 2.54),\"inches\")\n",
    "\n",
    "# printing all together in case of feet inches :\n",
    "print(f\"{kms} KM = {(((kms * 100000) / 2.54)//12)} feet {(((kms * 100000) / 2.54)%12):.2f} inches\")\n",
    "\n"
   ]
  },
  {
   "cell_type": "markdown",
   "metadata": {
    "id": "4Pj1tnWV97RU"
   },
   "source": [
    "Q3. If the marks obtained by a student in five different subjects are input through the keyboard,\n",
    "find out the aggregate marks and percentage marks obtained by the student. Assume that the\n",
    "maximum marks that can be obtained by a student in each subject is 100."
   ]
  },
  {
   "cell_type": "code",
   "execution_count": null,
   "metadata": {
    "id": "kTPVkdQ797RU"
   },
   "outputs": [],
   "source": [
    "# marks aggregate and percentage\n",
    "\n",
    "sub_1 = float(input(\"Enter subject 1 mark - \"))\n",
    "sub_2 = float(input(\"Enter subject 2 mark - \"))\n",
    "sub_3 = float(input(\"Enter subject 3 mark - \"))\n",
    "sub_4 = float(input(\"Enter subject 4 mark - \"))\n",
    "sub_5 = float(input(\"Enter subject 5 mark - \"))\n",
    "\n",
    "print(\"Subject 1 mark - \",sub_1)\n",
    "print(\"Subject 2 mark - \",sub_2)\n",
    "print(\"Subject 3 mark - \",sub_3)\n",
    "print(\"Subject 4 mark - \",sub_4)\n",
    "print(\"Subject 5 mark - \",sub_5)\n",
    "\n",
    "# calculating total marks\n",
    "total =  sub_1 + sub_2 + sub_3 + sub_4 + sub_5\n",
    "\n",
    "print(\"Total marks obtained =\",total)\n",
    "# percentage\n",
    "print(\"Percentage of total =\",(total/500)*100)"
   ]
  },
  {
   "cell_type": "markdown",
   "metadata": {
    "id": "FAs0HV7k97RU"
   },
   "source": [
    "Q4. Temperature of a city in Fahrenheit degrees is input through the keyboard. Write a program\n",
    "to convert this temperature into Centigrade degrees."
   ]
  },
  {
   "cell_type": "code",
   "execution_count": null,
   "metadata": {
    "id": "nlY9O4t_97RU"
   },
   "outputs": [],
   "source": [
    "# Fahrenheit to Celsius\n",
    "F = float(input(\"Enter temperature in Fahrenheit : \"))\n",
    "print(\"Your input for Fahrenheit = \", F)\n",
    "\n",
    "# Conversion using (F - 32) * 5/9 formula\n",
    "# to check the best result use (- 40) as F and see if it's (- 40 C) or not\n",
    "print(F,\"Fahrenheit = \",((F - 32) * 5/9),\"Celsius\")\n"
   ]
  },
  {
   "cell_type": "markdown",
   "metadata": {
    "id": "mzWlOEB097RV"
   },
   "source": [
    "Q5. The length & breadth of a rectangle and radius of a circle are input through the keyboard.\n",
    "Write a program to calculate the area & perimeter of the rectangle, and the area &\n",
    "circumference of the circle."
   ]
  },
  {
   "cell_type": "code",
   "execution_count": null,
   "metadata": {
    "id": "DXVZGmFE97RV"
   },
   "outputs": [],
   "source": [
    "len_of_rec = float(input(\"Enter the length of the rectangle :\"))\n",
    "br_of_rec = float(input(\"Enter the breadth of the rectangle :\"))\n",
    "rad_of_circ = float(input(\"Enter radius of circle :\"))\n",
    "\n",
    "print(\"Length of the rectangle is = \",len_of_rec)\n",
    "print(\"Breadth of the rectangle is = \",br_of_rec)\n",
    "print(\"Radius of the circle is = \",rad_of_circ)\n",
    "\n",
    "PI = (22/7)\n",
    "\n",
    "# area of the rectangle\n",
    "print(\"Area of rectangle is = \",(len_of_rec * br_of_rec))\n",
    "\n",
    "# perimeter of the rectangle\n",
    "print(\"Perimeter of rectangle is = \",(2 * (len_of_rec + br_of_rec)))\n",
    "\n",
    "# area of the circle\n",
    "print(\"Area of the circle is = \",(PI * (rad_of_circ * rad_of_circ))) #also can use (rad_of_circ ** 2) instead of (rad_of_circ * rad_of_circ)\n",
    "\n",
    "# circumference of the circle\n",
    "print(\"Circumference of the circle is = \",(2 * PI * rad_of_circ))"
   ]
  },
  {
   "cell_type": "markdown",
   "metadata": {
    "id": "Wtfh0RIY97RV"
   },
   "source": [
    "Q6. Two numbers are input through the keyboard into two locations C and D. Write a program to\n",
    "interchange the contents of C and D."
   ]
  },
  {
   "cell_type": "code",
   "execution_count": null,
   "metadata": {
    "id": "PhVvLXBu97RV"
   },
   "outputs": [],
   "source": [
    "# Input two numbers for C and D\n",
    "C = int(input(\"Enter the first number (C): \"))\n",
    "D = int(input(\"Enter the second number (D): \"))\n",
    "\n",
    "# Display original values\n",
    "print(f\"Original values: C = {C}, D = {D}\")\n",
    "\n",
    "# Swap the values\n",
    "a = C\n",
    "C = D\n",
    "D = a\n",
    "\n",
    "# also we can use like this -> C, D = D, C\n",
    "\n",
    "# Display swapped values\n",
    "print(f\"Swapped values: C = {C}, D = {D}\")"
   ]
  },
  {
   "cell_type": "markdown",
   "metadata": {
    "id": "dZCpVzRR97RW"
   },
   "source": [
    "Q7. If a five-digit number is input through the keyboard, write a program to calculate the sum of\n",
    "its digits.(Hint: Use the modulus operator ‘%’)"
   ]
  },
  {
   "cell_type": "code",
   "execution_count": null,
   "metadata": {
    "id": "L27sCiFu97RW"
   },
   "outputs": [],
   "source": [
    "# Take input through keyboard\n",
    "n = int(input(\"Enter a number :\"))\n",
    "res = 0\n",
    "# Print the number\n",
    "print(\"The number you entered is -\",n)\n",
    "\n",
    "# Using modulus operator to use the digits\n",
    "while n >= 10:\n",
    "    d = n % 10\n",
    "    n = n // 10\n",
    "    res = res + d\n",
    "else:\n",
    "    print(res + n)\n",
    "\n"
   ]
  },
  {
   "cell_type": "markdown",
   "metadata": {
    "id": "bzw4zLLl97RW"
   },
   "source": [
    "Q8. If a five-digit number is input through the keyboard, write a program to reverse the number."
   ]
  },
  {
   "cell_type": "code",
   "execution_count": null,
   "metadata": {
    "id": "-CTG90ZC97RW"
   },
   "outputs": [],
   "source": [
    "# Take input through keyboard\n",
    "n = int(input(\"Enter a number :\"))\n",
    "res = 0\n",
    "# Print the number\n",
    "print(\"The number you entered is -\",n)\n",
    "\n",
    "# in order to reverse we can use the above approach\n",
    "# we can use the * 10 + digits method\n",
    "\n",
    "while n >= 10:\n",
    "    d = n % 10\n",
    "    res = (res * 10) + d\n",
    "    n = n // 10\n",
    "else:\n",
    "    print((res * 10) + n)"
   ]
  },
  {
   "cell_type": "markdown",
   "metadata": {
    "id": "L6cTdExD97RW"
   },
   "source": [
    "Q9. If a four-digit number is input through the keyboard, write a program to obtain the sum of the\n",
    "first and last digit of this number."
   ]
  },
  {
   "cell_type": "code",
   "execution_count": null,
   "metadata": {
    "id": "ly50WU6Z97RW"
   },
   "outputs": [],
   "source": [
    "# Take input through keyboard\n",
    "n = int(input(\"Enter a number :\"))\n",
    "ld = 0\n",
    "count = 0\n",
    "# Print the number\n",
    "print(\"The number you entered is -\",n)\n",
    "\n",
    "# Using modulus operator to use the digits\n",
    "while n >= 10:\n",
    "    d = n % 10\n",
    "    n = n // 10\n",
    "    count += 1\n",
    "    if count == 1:\n",
    "        ld = d\n",
    "\n",
    "else:\n",
    "    print(ld + n)"
   ]
  },
  {
   "cell_type": "markdown",
   "metadata": {
    "id": "1YvnyQnk97RW"
   },
   "source": [
    "Q10. In a town, the percentage of men is 52. The percentage of total literacy is 48. If total percentage\n",
    "of literate men is 35 of the total population, write a program to find the total number of\n",
    "illiterate men and women if the population of the town is 80,000."
   ]
  },
  {
   "cell_type": "code",
   "execution_count": null,
   "metadata": {
    "id": "8oyYWhPg97RX"
   },
   "outputs": [],
   "source": [
    "# Take given data\n",
    "total_population = float(input(\"Enter total population : \"))\n",
    "men_percentage = float(input(\"Enter percentage of men : \"))\n",
    "total_lit_percentage = float(input(\"Enter total literacy percentage : \"))\n",
    "lit_men_percentage = float(input(\"Enter percentage of men literacy : \"))\n",
    "\n",
    "\n",
    "# Print all inputs\n",
    "print(\"Total population = \", total_population)\n",
    "print(\"Men percentagle = \", men_percentage)\n",
    "print(\"Literacy percentage = \", total_lit_percentage)\n",
    "print(\"Men literacy percentage = \", lit_men_percentage)\n",
    "print()\n",
    "\n",
    "# Consideration --\n",
    "# percentage of men is 52 %\n",
    "# percentage of total literacy is 48 %\n",
    "# total percentage of literate men is 35 %\n",
    "# total number of men = ((men_percentage / 100) * total_population)\n",
    "# total number of literate people = ((total_literacy / 100) * total_population)\n",
    "# total number of literate men = ((lit_men_percentage / 100) * total_population)\n",
    "\n",
    "# Convert using percentage\n",
    "total_men = ((men_percentage / 100) * total_population)\n",
    "print(\"Total men = \", total_men)\n",
    "\n",
    "total_women = total_population - total_men\n",
    "print(\"Total women = \", total_women)\n",
    "\n",
    "total_lit_people = ((total_lit_percentage / 100) * total_population)\n",
    "print(\"Total literate people = \", total_lit_people)\n",
    "\n",
    "total_illit_people = total_population - total_lit_people\n",
    "print(\"Total illiterate people = \", total_illit_people)\n",
    "\n",
    "total_lit_men = ((lit_men_percentage / 100) * total_population)\n",
    "print(\"Total literate men = \", total_lit_men)\n",
    "\n",
    "total_illit_men = total_men - total_lit_men\n",
    "print(\"Total illiterate men = \", total_illit_men)\n",
    "\n",
    "total_lit_women = total_lit_people - total_lit_men\n",
    "print(\"Total literate women = \", total_lit_women)\n",
    "\n",
    "total_illit_women =  total_women - total_lit_women\n",
    "print(\"Total illiterate women = \", total_illit_women)\n"
   ]
  },
  {
   "cell_type": "markdown",
   "metadata": {
    "id": "acYyQAXN97RX"
   },
   "source": [
    "Q11. A cashier has currency notes of denominations 10, 50 and 100. If the amount to be withdrawn\n",
    "is input through the keyboard in hundreds, find the total number of currency notes of each\n",
    "denomination the cashier will have to give to the withdrawer."
   ]
  },
  {
   "cell_type": "code",
   "execution_count": 1,
   "metadata": {
    "id": "yL0HYRpy97RX"
   },
   "outputs": [
    {
     "name": "stdout",
     "output_type": "stream",
     "text": [
      "Your withdrawl amount Rs. -  120.0\n",
      "100 Notes =  1.0\n",
      "50 Notes =  0.0\n",
      "10 Notes =  2.0\n",
      "Extra Rs. -  0.0\n"
     ]
    }
   ],
   "source": [
    "# Take input of the withdrawl amount\n",
    "w_amt = float(input(\"Enter amount Rs. : \"))\n",
    "H_notes = F_notes = T_notes = 0\n",
    "print(\"Your withdrawl amount Rs. - \", w_amt)\n",
    "\n",
    "# How many notes can be given\n",
    "\n",
    "H_notes = w_amt // 100\n",
    "print(\"100 Notes = \", H_notes)\n",
    "\n",
    "F_notes = (w_amt % 100) // 50\n",
    "print(\"50 Notes = \", F_notes)\n",
    "\n",
    "T_notes = ((w_amt % 100) % 50) // 10\n",
    "print(\"10 Notes = \", T_notes)\n",
    "print(\"Extra Rs. - \", (((w_amt % 100) % 50) % 10))\n"
   ]
  },
  {
   "cell_type": "markdown",
   "metadata": {
    "id": "Oht1btbj97RX"
   },
   "source": [
    "Q12. If the total selling price of 15 items and the total profit earned on them is input through the\n",
    "keyboard, write a program to find the cost price of one item."
   ]
  },
  {
   "cell_type": "code",
   "execution_count": null,
   "metadata": {
    "id": "a5aJz0La97RX"
   },
   "outputs": [],
   "source": [
    "# Take inputs\n",
    "total_items = int(input(\"Enter total items : \"))\n",
    "total_selling_price = float(input(\"Enter selling price : \"))\n",
    "total_profit = float(input(\"Enter total profit : \"))\n",
    "\n",
    "print(\"Total items =\", total_items)\n",
    "print(\"Total selling price =\", total_selling_price)\n",
    "print(\"Total profit =\", total_profit)\n",
    "\n",
    "# Calculate cost price of one item\n",
    "single_item_cost = (total_selling_price - total_profit) / total_items\n",
    "print(\"Single item cost =\", single_item_cost)\n"
   ]
  },
  {
   "cell_type": "markdown",
   "metadata": {
    "id": "Z_oE6MBv97RX"
   },
   "source": [
    "Q13. If a five-digit number is input through the keyboard, write a program to print a new number\n",
    "by adding one to each of its digits. For example if the number that is input is 12391 then the\n",
    "output should be displayed as 23402"
   ]
  },
  {
   "cell_type": "code",
   "execution_count": 34,
   "metadata": {
    "colab": {
     "base_uri": "https://localhost:8080/"
    },
    "executionInfo": {
     "elapsed": 4860,
     "status": "ok",
     "timestamp": 1730899766598,
     "user": {
      "displayName": "Anibarja Sikari",
      "userId": "07485718535683252241"
     },
     "user_tz": -330
    },
    "id": "YTchTBQz97RX",
    "outputId": "86346848-1e71-413b-be9e-54e65e9cca7b"
   },
   "outputs": [
    {
     "name": "stdout",
     "output_type": "stream",
     "text": [
      "The number you entered is - 12391\n",
      "23402\n"
     ]
    }
   ],
   "source": [
    "# Take input through keyboard\n",
    "n1 = int(input(\"Enter a number :\"))\n",
    "res1 = 0\n",
    "i1 = 0\n",
    "# Print the number\n",
    "print(\"The number you entered is -\",n1)\n",
    "\n",
    "# add one to each of it's digits\n",
    "while n1 >= 10:\n",
    "    d1 = n1 % 10\n",
    "    nd1 = d1 + 1\n",
    "    nd1 = nd1 % 10\n",
    "    res1 = ((10**i1)* nd1) + res1\n",
    "    n1 = n1 // 10\n",
    "    i1 += 1\n",
    "nd1 = n1 + 1\n",
    "nd1 = nd1 % 10\n",
    "print(((10**i1)* nd1) + res1)\n"
   ]
  }
 ],
 "metadata": {
  "colab": {
   "provenance": []
  },
  "kernelspec": {
   "display_name": "Python 3",
   "language": "python",
   "name": "python3"
  },
  "language_info": {
   "codemirror_mode": {
    "name": "ipython",
    "version": 3
   },
   "file_extension": ".py",
   "mimetype": "text/x-python",
   "name": "python",
   "nbconvert_exporter": "python",
   "pygments_lexer": "ipython3",
   "version": "3.12.2"
  }
 },
 "nbformat": 4,
 "nbformat_minor": 0
}
