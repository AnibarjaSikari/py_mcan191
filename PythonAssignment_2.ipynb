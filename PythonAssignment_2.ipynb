{
 "cells": [
  {
   "cell_type": "markdown",
   "metadata": {},
   "source": [
    "1. If cost price and selling price of an item is input through the keyboard, write a program to\n",
    "determine whether the seller has made profit or incurred loss. Also determine how much profit\n",
    "he made or loss he incurred."
   ]
  },
  {
   "cell_type": "code",
   "execution_count": 5,
   "metadata": {},
   "outputs": [
    {
     "name": "stdout",
     "output_type": "stream",
     "text": [
      "Cost price  123.0\n",
      "Selling price  125.0\n",
      "seller made profit of :  2.0\n"
     ]
    }
   ],
   "source": [
    "cost_price = float(input(\"Enter cost price : \"))\n",
    "print(\"Cost price \", cost_price)\n",
    "selling_price = float(input(\"Enter selling price: \"))\n",
    "print(\"Selling price \", selling_price)\n",
    "\n",
    "if cost_price < selling_price:\n",
    "    print(\"seller made profit of : \",(selling_price-cost_price))\n",
    "else:\n",
    "    print(\"seller made loss\",(cost_price-selling_price))"
   ]
  },
  {
   "cell_type": "markdown",
   "metadata": {},
   "source": [
    "\n",
    "2. Any integer is input through the keyboard. Write a program to find out whether it is an odd\n",
    "number or even number."
   ]
  },
  {
   "cell_type": "code",
   "execution_count": null,
   "metadata": {},
   "outputs": [
    {
     "name": "stdout",
     "output_type": "stream",
     "text": [
      "Input is  1\n",
      "number is odd\n"
     ]
    }
   ],
   "source": [
    "num1 = int(input(\"Enter a number : \"))\n",
    "print(\"Input is \", num1)\n",
    "\n",
    "if num1 % 2 == 0:\n",
    "    print(\"Number is even\")\n",
    "else:\n",
    "    print(\"Number is odd\")\n"
   ]
  },
  {
   "cell_type": "markdown",
   "metadata": {},
   "source": [
    "3. Any year is input through the keyboard. Write a program to determine whether the year is a\n",
    "leap year or not."
   ]
  },
  {
   "cell_type": "code",
   "execution_count": 2,
   "metadata": {},
   "outputs": [
    {
     "name": "stdout",
     "output_type": "stream",
     "text": [
      "Year 2024\n",
      "Year is leap year\n"
     ]
    }
   ],
   "source": [
    "year = int(input(\"Enter the year: \"))\n",
    "print(\"Year\",year)\n",
    "\n",
    "if year % 400 == 0 and year % 100 == 0:\n",
    "    print(\"Year is leap year\")\n",
    "elif year % 4 == 0 and year % 100 != 0:\n",
    "    print(\"Year is leap year\")\n",
    "else:\n",
    "    print(\"This is not a leap year\")"
   ]
  },
  {
   "cell_type": "markdown",
   "metadata": {},
   "source": [
    "4. According to the Gregorian calendar, it was Monday on the date 01/01/1900. If any year is\n",
    "input through the keyboard write a program to find out what is the day on 1 st January of this\n",
    "year."
   ]
  },
  {
   "cell_type": "code",
   "execution_count": null,
   "metadata": {},
   "outputs": [],
   "source": []
  },
  {
   "cell_type": "markdown",
   "metadata": {},
   "source": [
    "5. A five-digit number is entered through the keyboard. Write a program to obtain the reversed\n",
    "number and to determine whether the original and reversed numbers are equal or not.\n"
   ]
  },
  {
   "cell_type": "code",
   "execution_count": null,
   "metadata": {},
   "outputs": [],
   "source": []
  },
  {
   "cell_type": "markdown",
   "metadata": {},
   "source": [
    "6. If the ages of Ram, Shyam and Ajay are input through the keyboard, write a program to determine the youngest of the three.\n"
   ]
  },
  {
   "cell_type": "code",
   "execution_count": null,
   "metadata": {},
   "outputs": [],
   "source": []
  },
  {
   "cell_type": "markdown",
   "metadata": {},
   "source": [
    "\n",
    "7. Write a program to check whether a triangle is valid or not, when the three angles of the\n",
    "triangle are entered through the keyboard. A triangle is valid if the sum of all the three angles\n",
    "is equal to 180 degrees.\n"
   ]
  },
  {
   "cell_type": "code",
   "execution_count": null,
   "metadata": {},
   "outputs": [],
   "source": []
  },
  {
   "cell_type": "markdown",
   "metadata": {},
   "source": [
    "8. Find the absolute value of a number entered through the keyboard."
   ]
  },
  {
   "cell_type": "code",
   "execution_count": null,
   "metadata": {},
   "outputs": [],
   "source": []
  },
  {
   "cell_type": "markdown",
   "metadata": {},
   "source": [
    "9. Given the length and breadth of a rectangle, write a program to find whether the area of the\n",
    "rectangle is greater than its perimeter. For example, the area of the rectangle with length = 5\n",
    "and breadth = 4 is greater than its perimeter.\n"
   ]
  },
  {
   "cell_type": "code",
   "execution_count": null,
   "metadata": {},
   "outputs": [],
   "source": []
  },
  {
   "cell_type": "markdown",
   "metadata": {},
   "source": [
    "10. Given three points (x1, y1), (x2, y2) and (x3, y3), write a program to check if all the three\n",
    "points fall on one straight line.\n"
   ]
  },
  {
   "cell_type": "code",
   "execution_count": null,
   "metadata": {},
   "outputs": [],
   "source": []
  },
  {
   "cell_type": "markdown",
   "metadata": {},
   "source": [
    "11. Given the coordinates (x, y) of a center of a circle and it’s radius, write a program which will\n",
    "determine whether a point lies inside the circle, on the circle or outside the circle. (Hint: Use\n",
    "sqrt( ) and pow( ) functions)\n"
   ]
  },
  {
   "cell_type": "code",
   "execution_count": null,
   "metadata": {},
   "outputs": [],
   "source": []
  },
  {
   "cell_type": "markdown",
   "metadata": {},
   "source": [
    "12. Given a point (x, y), write a program to find out if it lies on the x-axis, y-axis or at the origin,\n",
    "viz. (0, 0).\n"
   ]
  },
  {
   "cell_type": "code",
   "execution_count": null,
   "metadata": {},
   "outputs": [],
   "source": []
  },
  {
   "cell_type": "markdown",
   "metadata": {},
   "source": [
    "13. Any year is entered through the keyboard, write a program to determine whether the year is\n",
    "leap or not. Use the logical operators && and ||.\n"
   ]
  },
  {
   "cell_type": "code",
   "execution_count": null,
   "metadata": {},
   "outputs": [],
   "source": []
  },
  {
   "cell_type": "markdown",
   "metadata": {},
   "source": [
    "14. A library charges a fine for every book returned late. For first 5 days the fine is 50 paise, for\n",
    "6-10 days fine is one rupee and above 10 days fine is 5 rupees. If you return the book after 30\n",
    "days your membership will be cancelled. Write a program to accept the number of days the\n",
    "member is late to return the book and display the fine or the appropriate message.\n"
   ]
  },
  {
   "cell_type": "code",
   "execution_count": null,
   "metadata": {},
   "outputs": [],
   "source": []
  },
  {
   "cell_type": "markdown",
   "metadata": {},
   "source": [
    "15. If the three sides of a triangle are entered through the keyboard, write a program to check\n",
    "whether the triangle is valid or not. The triangle is valid if the sum of two sides is greater than\n",
    "the largest of the three sides.\n"
   ]
  },
  {
   "cell_type": "code",
   "execution_count": null,
   "metadata": {},
   "outputs": [],
   "source": []
  },
  {
   "cell_type": "markdown",
   "metadata": {},
   "source": [
    "16. If the three sides of a triangle are entered through the keyboard, write a program to check\n",
    "whether the triangle is isosceles, equilateral, scalene or right angled triangle.\n"
   ]
  },
  {
   "cell_type": "code",
   "execution_count": null,
   "metadata": {},
   "outputs": [],
   "source": []
  },
  {
   "cell_type": "markdown",
   "metadata": {},
   "source": [
    "17. In a company, worker efficiency is determined on the basis of the time required for a worker\n",
    "to complete a particular job. If the time taken by the worker is between 2 – 3 hours, then the\n",
    "worker is said to be highly efficient. If the time required by the worker is between 3 – 4 hours,\n",
    "then the worker is ordered to improve speed. If the time taken is between 4 – 5 hours, the\n",
    "worker is given training to improve his speed, and if the time taken by the worker is more\n",
    "than 5 hours, then the worker has to leave the company. If the time taken by the worker is\n",
    "input through the keyboard, find the efficiency of the worker.\n"
   ]
  },
  {
   "cell_type": "code",
   "execution_count": null,
   "metadata": {},
   "outputs": [],
   "source": []
  },
  {
   "cell_type": "markdown",
   "metadata": {},
   "source": [
    "18. An Insurance company follows following rules to calculate premium.\n",
    "• If a person’s health is excellent and the person is between 25 and 35 years of age and lives in\n",
    "a city and is a male then the premium is Rs. 4 per thousand and his policy amount cannot\n",
    "exceed Rs. 2 lakhs.\n",
    "• If a person satisfies all the above conditions except that the sex is female then the premium is\n",
    "Rs. 3 per thousand and her policy amount cannot exceed Rs. 1 lakh.\n",
    "• If a person’s health is poor and the person is between 25 and 35 years of age and lives in a\n",
    "village and is a male then the premium is Rs. 6 per thousand and his policy cannot exceed Rs.\n",
    "10,000.\n",
    "• In all other cases the person is not insured.\n",
    "Write a program to output whether the person should be insured or not, his/her premium rate and\n",
    "maximum amount for which he/she can be insured."
   ]
  }
 ],
 "metadata": {
  "kernelspec": {
   "display_name": "Python 3",
   "language": "python",
   "name": "python3"
  },
  "language_info": {
   "codemirror_mode": {
    "name": "ipython",
    "version": 3
   },
   "file_extension": ".py",
   "mimetype": "text/x-python",
   "name": "python",
   "nbconvert_exporter": "python",
   "pygments_lexer": "ipython3",
   "version": "3.12.2"
  }
 },
 "nbformat": 4,
 "nbformat_minor": 2
}
