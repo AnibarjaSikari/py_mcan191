{
 "cells": [
  {
   "cell_type": "markdown",
   "metadata": {},
   "source": [
    "1. If cost price and selling price of an item is input through the keyboard, write a program to\n",
    "determine whether the seller has made profit or incurred loss. Also determine how much profit\n",
    "he made or loss he incurred."
   ]
  },
  {
   "cell_type": "code",
   "execution_count": null,
   "metadata": {},
   "outputs": [],
   "source": [
    "# SELLING > COST = PROFIT\n",
    "cost_price = float(input(\"Enter cost price : \"))\n",
    "print(\"Cost price \", cost_price)\n",
    "selling_price = float(input(\"Enter selling price: \"))\n",
    "print(\"Selling price \", selling_price)\n",
    "\n",
    "if cost_price < selling_price:\n",
    "    print(\"seller made profit of : \",(selling_price-cost_price))\n",
    "else:\n",
    "    print(\"seller made loss\",(cost_price-selling_price))"
   ]
  },
  {
   "cell_type": "markdown",
   "metadata": {},
   "source": [
    "\n",
    "2. Any integer is input through the keyboard. Write a program to find out whether it is an odd\n",
    "number or even number."
   ]
  },
  {
   "cell_type": "code",
   "execution_count": null,
   "metadata": {},
   "outputs": [],
   "source": [
    "#DISVISIBLE BY 2 MEANS EVEN ELSE ODD\n",
    "\n",
    "num1 = int(input(\"Enter a number : \"))\n",
    "print(\"Input is \", num1)\n",
    "\n",
    "if num1 % 2 == 0:\n",
    "    print(\"Number is even\")\n",
    "else:\n",
    "    print(\"Number is odd\")\n"
   ]
  },
  {
   "cell_type": "markdown",
   "metadata": {},
   "source": [
    "3. Any year is input through the keyboard. Write a program to determine whether the year is a\n",
    "leap year or not."
   ]
  },
  {
   "cell_type": "code",
   "execution_count": null,
   "metadata": {},
   "outputs": [],
   "source": [
    "# TAKE YEAR INPUT\n",
    "year = int(input(\"Enter the year: \"))\n",
    "print(\"Year\",year)\n",
    "\n",
    "#if the year is divisible by 4 then it's leap year but for centuries it has to be divided by 400\n",
    "if year % 400 == 0:\n",
    "    print(\"Year is leap year\")\n",
    "elif year % 4 == 0 and year % 100 != 0:\n",
    "    print(\"Year is leap year\")\n",
    "else:\n",
    "    print(\"This is not a leap year\")\n"
   ]
  },
  {
   "cell_type": "markdown",
   "metadata": {},
   "source": [
    "4. According to the Gregorian calendar, it was Monday on the date 01/01/1900. If any year is\n",
    "input through the keyboard write a program to find out what is the day on 1 st January of this\n",
    "year."
   ]
  },
  {
   "cell_type": "code",
   "execution_count": null,
   "metadata": {},
   "outputs": [],
   "source": [
    "\n",
    "start_year = 1900\n",
    "total_days = 0\n",
    "year = int(input(\"Enter year: \"))\n",
    "\n",
    "#get total years\n",
    "totalYear = (year-1) - start_year #year - 1 meaning the year we are giving as input has to deal with the first day not the whole year so we can take upto previous year\n",
    "leap_years = totalYear // 4 #because of 1900 is not a leap year then its //4\n",
    "\n",
    "not_leap_years = totalYear - leap_years \n",
    "\n",
    "total_days = (365 * not_leap_years) + (366 * leap_years) + 1 #+1 is for the given year day 1\n",
    "day = total_days % 7\n",
    "\n",
    "if day == 0:\n",
    "    print(\"Monday\")\n",
    "elif day == 1:\n",
    "    print(\"Tuesday\")\n",
    "elif day == 2:\n",
    "    print(\"Wednesday\")\n",
    "elif day == 3:\n",
    "    print(\"Thursday\")\n",
    "elif day == 4:\n",
    "    print(\"Friday\")\n",
    "elif day == 5:\n",
    "    print(\"Saturday\")\n",
    "elif day == 6:\n",
    "    print(\"Sunday\")\n",
    "else:\n",
    "    print(\"Try again\")\n",
    "\n"
   ]
  },
  {
   "cell_type": "markdown",
   "metadata": {},
   "source": [
    "5. A five-digit number is entered through the keyboard. Write a program to obtain the reversed\n",
    "number and to determine whether the original and reversed numbers are equal or not.\n"
   ]
  },
  {
   "cell_type": "code",
   "execution_count": null,
   "metadata": {},
   "outputs": [],
   "source": [
    "#simple pallindrome\n",
    "#take input \n",
    "n = int(input(\"Enter a number: \"))\n",
    "i=0\n",
    "n_1 = n\n",
    "newNum = 0\n",
    "while n_1 > 0:\n",
    "    d = n_1 % 10\n",
    "    n_1 //= 10\n",
    "    #use digit to add the number from first\n",
    "    newNum = (newNum * 10) + d\n",
    "    i += 1\n",
    "\n",
    "print(newNum)\n",
    "if(newNum / n) == 1:\n",
    "    print(\"Numbers are equal\")\n",
    "else:\n",
    "    print(\"Numbers are not equal\")"
   ]
  },
  {
   "cell_type": "markdown",
   "metadata": {},
   "source": [
    "6. If the ages of Ram, Shyam and Ajay are input through the keyboard, write a program to determine the youngest of the three.\n"
   ]
  },
  {
   "cell_type": "code",
   "execution_count": null,
   "metadata": {},
   "outputs": [],
   "source": [
    "ram_age = int(input(\"Enter Ram's age: \"))\n",
    "shyam_age = int(input(\"Enter Shyam's age: \"))\n",
    "ajay_age = int(input(\"Enter Ajay's age: \"))\n",
    "\n",
    "#check if any one is youngest of them one by one\n",
    "if (ram_age < shyam_age) and (ram_age < ajay_age):\n",
    "    print(\"Ram is the youngest one\")\n",
    "elif (shyam_age < ram_age) and (shyam_age < ajay_age):\n",
    "    print(\"Shyam is the youngest one\")\n",
    "elif(ajay_age < ram_age) and (ajay_age < shyam_age):\n",
    "    print(\"Ajay is the youngest\")\n"
   ]
  },
  {
   "cell_type": "markdown",
   "metadata": {},
   "source": [
    "\n",
    "7. Write a program to check whether a triangle is valid or not, when the three angles of the\n",
    "triangle are entered through the keyboard. A triangle is valid if the sum of all the three angles\n",
    "is equal to 180 degrees.\n"
   ]
  },
  {
   "cell_type": "code",
   "execution_count": null,
   "metadata": {},
   "outputs": [],
   "source": [
    "# let ABC a triangle and have angle ABC, BCA, CAB, \n",
    "# now take input and calculate the sum of these 3 and take a comparison\n",
    "\n",
    "ang_BAC = float(input(\"Enter angle A : \"))\n",
    "ang_ABC = float(input(\"Enter angle B : \"))\n",
    "ang_BCA = float(input(\"Enter angle C : \"))\n",
    "\n",
    "ang_sum = (ang_BAC + ang_ABC + ang_BCA)\n",
    "\n",
    "if (ang_sum == 180):\n",
    "    print(\"This is a valid triangle.\")\n",
    "else:\n",
    "    print(\"This is not a triangle.\")"
   ]
  },
  {
   "cell_type": "markdown",
   "metadata": {},
   "source": [
    "8. Find the absolute value of a number entered through the keyboard."
   ]
  },
  {
   "cell_type": "code",
   "execution_count": null,
   "metadata": {},
   "outputs": [],
   "source": [
    "# abs(A) = |A| \n",
    "# meaning -2 will be 2\n",
    "\n",
    "a = int(input(\"Enter a number\"))\n",
    "print(\"Your given input is = \", a)\n",
    "\n",
    "if(a < 0 ):\n",
    "    a = a * (-1)\n",
    "    print(\"Absolute value is = \", a)\n",
    "else:\n",
    "    print(\"Absolute value is = \", a)\n",
    "    "
   ]
  },
  {
   "cell_type": "markdown",
   "metadata": {},
   "source": [
    "9. Given the length and breadth of a rectangle, write a program to find whether the area of the\n",
    "rectangle is greater than its perimeter. For example, the area of the rectangle with length = 5\n",
    "and breadth = 4 is greater than its perimeter.\n"
   ]
  },
  {
   "cell_type": "code",
   "execution_count": null,
   "metadata": {},
   "outputs": [],
   "source": [
    "# Area of a Rectangle\n",
    "len = input(\"Enter length : \")\n",
    "brd = input(\"Enter breadth : \")\n",
    "\n",
    "rec_len = float(len)\n",
    "rec_brd = float(brd)\n",
    "\n",
    "rec_area = rec_len * rec_brd\n",
    "print(\"Area is \", rec_area)\n",
    "rec_peri = 2 * (rec_len + rec_brd)\n",
    "print(\"Perimeter is \", rec_peri)\n",
    "\n",
    "if (rec_area > rec_peri):\n",
    "    print(\"Area is greater than Perimeter\")\n",
    "else:\n",
    "    print(\"Perimeter is greater than the Area\")"
   ]
  },
  {
   "cell_type": "markdown",
   "metadata": {},
   "source": [
    "10. Given three points (x1, y1), (x2, y2) and (x3, y3), write a program to check if all the three\n",
    "points fall on one straight line.\n"
   ]
  },
  {
   "cell_type": "code",
   "execution_count": null,
   "metadata": {},
   "outputs": [],
   "source": [
    "#if (x1, y1), (x2, y2) and (x3, y3) are in one line\n",
    "# then (x2 - x1) / (y2 - y1) is = dX / dy \n",
    "# now use this for the x3 and y3\n",
    "\n",
    "x1 = float(input(\"Enter x1: \"))\n",
    "y1 = float(input(\"Enter y1: \"))\n",
    "\n",
    "x2 = float(input(\"Enter x2: \"))\n",
    "y2 = float(input(\"Enter y2: \"))\n",
    "\n",
    "x3 = float(input(\"Enter x3: \"))\n",
    "y3 = float(input(\"Enter y3: \"))\n",
    "\n",
    "dx1 = (x2 - x1)\n",
    "dy1 = (y2 - y1)\n",
    "\n",
    "dx2 = (x3 - x2)\n",
    "dy2 = (y3 - y2)\n",
    "\n",
    "\n",
    "\n",
    "if (dx1 == 0 or dx2 == 0):\n",
    "    if (x1 == x2 == x3):\n",
    "        print(\"All are in line where slopes are in vertical\")\n",
    "    else:\n",
    "        print(\"3 Points are not in a line\")\n",
    "\n",
    "else:\n",
    "    slp1 = dy1 / dx1\n",
    "    slp2 = dy2 / dx2\n",
    "\n",
    "    if (slp1 == slp2):\n",
    "        print(\"All 3 points are in one line\")\n",
    "    else:\n",
    "        print(\"3 Points are not in a line\")\n",
    "\n",
    "\n"
   ]
  },
  {
   "cell_type": "markdown",
   "metadata": {},
   "source": [
    "11. Given the coordinates (x, y) of a center of a circle and it’s radius, write a program which will\n",
    "determine whether a point lies inside the circle, on the circle or outside the circle. (Hint: Use\n",
    "sqrt( ) and pow( ) functions)\n"
   ]
  },
  {
   "cell_type": "code",
   "execution_count": null,
   "metadata": {},
   "outputs": [],
   "source": [
    "import math as Math\n",
    "cen_x = float(input(\"Enter center of the circle x co-ordinate: \"))\n",
    "cen_y = float(input(\"Enter center of the circle y co-ordinate: \"))\n",
    "\n",
    "cir_rad = float(input(\"Enter the circle radius: \"))\n",
    "\n",
    "point_x = float(input(\"Enter the X of the point : \"))\n",
    "point_y = float(input(\"Enter the Y of the point : \"))\n",
    "\n",
    "x_len = (point_x - cen_x)\n",
    "y_len = (point_y - cen_y)\n",
    "\n",
    "cen_to_point = Math.sqrt(Math.pow(x_len, 2) + Math.pow(y_len,2))\n",
    "\n",
    "if (cen_to_point > cir_rad):\n",
    "    print(\"The point is outside the circle.\")\n",
    "else:\n",
    "    print(\"The point is inside the circle.\")"
   ]
  },
  {
   "cell_type": "markdown",
   "metadata": {},
   "source": [
    "12. Given a point (x, y), write a program to find out if it lies on the x-axis, y-axis or at the origin,\n",
    "viz. (0, 0).\n"
   ]
  },
  {
   "cell_type": "code",
   "execution_count": null,
   "metadata": {},
   "outputs": [],
   "source": []
  },
  {
   "cell_type": "markdown",
   "metadata": {},
   "source": [
    "13. Any year is entered through the keyboard, write a program to determine whether the year is\n",
    "leap or not. Use the logical operators && and ||.\n"
   ]
  },
  {
   "cell_type": "code",
   "execution_count": null,
   "metadata": {},
   "outputs": [],
   "source": []
  },
  {
   "cell_type": "markdown",
   "metadata": {},
   "source": [
    "14. A library charges a fine for every book returned late. For first 5 days the fine is 50 paise, for\n",
    "6-10 days fine is one rupee and above 10 days fine is 5 rupees. If you return the book after 30\n",
    "days your membership will be cancelled. Write a program to accept the number of days the\n",
    "member is late to return the book and display the fine or the appropriate message.\n"
   ]
  },
  {
   "cell_type": "code",
   "execution_count": null,
   "metadata": {},
   "outputs": [],
   "source": []
  },
  {
   "cell_type": "markdown",
   "metadata": {},
   "source": [
    "15. If the three sides of a triangle are entered through the keyboard, write a program to check\n",
    "whether the triangle is valid or not. The triangle is valid if the sum of two sides is greater than\n",
    "the largest of the three sides.\n"
   ]
  },
  {
   "cell_type": "code",
   "execution_count": null,
   "metadata": {},
   "outputs": [],
   "source": []
  },
  {
   "cell_type": "markdown",
   "metadata": {},
   "source": [
    "16. If the three sides of a triangle are entered through the keyboard, write a program to check\n",
    "whether the triangle is isosceles, equilateral, scalene or right angled triangle.\n"
   ]
  },
  {
   "cell_type": "code",
   "execution_count": null,
   "metadata": {},
   "outputs": [],
   "source": []
  },
  {
   "cell_type": "markdown",
   "metadata": {},
   "source": [
    "17. In a company, worker efficiency is determined on the basis of the time required for a worker\n",
    "to complete a particular job. If the time taken by the worker is between 2 – 3 hours, then the\n",
    "worker is said to be highly efficient. If the time required by the worker is between 3 – 4 hours,\n",
    "then the worker is ordered to improve speed. If the time taken is between 4 – 5 hours, the\n",
    "worker is given training to improve his speed, and if the time taken by the worker is more\n",
    "than 5 hours, then the worker has to leave the company. If the time taken by the worker is\n",
    "input through the keyboard, find the efficiency of the worker.\n"
   ]
  },
  {
   "cell_type": "code",
   "execution_count": null,
   "metadata": {},
   "outputs": [],
   "source": []
  },
  {
   "cell_type": "markdown",
   "metadata": {},
   "source": [
    "18. An Insurance company follows following rules to calculate premium.\n",
    "• If a person’s health is excellent and the person is between 25 and 35 years of age and lives in\n",
    "a city and is a male then the premium is Rs. 4 per thousand and his policy amount cannot\n",
    "exceed Rs. 2 lakhs.\n",
    "• If a person satisfies all the above conditions except that the sex is female then the premium is\n",
    "Rs. 3 per thousand and her policy amount cannot exceed Rs. 1 lakh.\n",
    "• If a person’s health is poor and the person is between 25 and 35 years of age and lives in a\n",
    "village and is a male then the premium is Rs. 6 per thousand and his policy cannot exceed Rs.\n",
    "10,000.\n",
    "• In all other cases the person is not insured.\n",
    "Write a program to output whether the person should be insured or not, his/her premium rate and\n",
    "maximum amount for which he/she can be insured."
   ]
  },
  {
   "cell_type": "code",
   "execution_count": null,
   "metadata": {},
   "outputs": [],
   "source": []
  }
 ],
 "metadata": {
  "kernelspec": {
   "display_name": "Python 3",
   "language": "python",
   "name": "python3"
  },
  "language_info": {
   "codemirror_mode": {
    "name": "ipython",
    "version": 3
   },
   "file_extension": ".py",
   "mimetype": "text/x-python",
   "name": "python",
   "nbconvert_exporter": "python",
   "pygments_lexer": "ipython3",
   "version": "3.13.1"
  }
 },
 "nbformat": 4,
 "nbformat_minor": 2
}
