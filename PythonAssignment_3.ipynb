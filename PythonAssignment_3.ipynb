{
 "cells": [
  {
   "cell_type": "markdown",
   "metadata": {},
   "source": [
    "1 Write a program to calculate overtime pay of 10 employees. Overtime is paid at the rate of Rs. 12.00 per hour for every hour worked above 40 hours. Assume that employees do not work for\n",
    "fractional part of an hour.\n"
   ]
  },
  {
   "cell_type": "code",
   "execution_count": null,
   "metadata": {},
   "outputs": [],
   "source": []
  },
  {
   "cell_type": "markdown",
   "metadata": {},
   "source": [
    "2 Write a program to find the factorial value of any number entered through the keyboard.\n"
   ]
  },
  {
   "cell_type": "code",
   "execution_count": null,
   "metadata": {},
   "outputs": [],
   "source": []
  },
  {
   "cell_type": "markdown",
   "metadata": {},
   "source": [
    "3 Two numbers are entered through the keyboard. Write a program to find the value of one number\n",
    "raised to the power of another.\n"
   ]
  },
  {
   "cell_type": "code",
   "execution_count": null,
   "metadata": {},
   "outputs": [],
   "source": []
  },
  {
   "cell_type": "markdown",
   "metadata": {},
   "source": [
    "4 Write a program to print all the ASCII values and their equivalent characters using a while loop.\n",
    "The ASCII values vary from 0 to 255[chr(110) will print ascii character of the value 110. ord('A')\n",
    "will print corresponding ASCII value of 'A']\n"
   ]
  },
  {
   "cell_type": "code",
   "execution_count": null,
   "metadata": {},
   "outputs": [],
   "source": []
  },
  {
   "cell_type": "markdown",
   "metadata": {},
   "source": [
    "5 Write a program to print out all Armstrong numbers between 1 and 500. If sum of cubes of each\n",
    "digit of the number is equal to the number itself, then the number is called an Armstrong number.\n",
    "For example, 153 = ( 1 * 1 * 1 ) + ( 5 * 5 * 5 ) + ( 3 * 3 * 3 )\n"
   ]
  },
  {
   "cell_type": "code",
   "execution_count": null,
   "metadata": {},
   "outputs": [],
   "source": []
  },
  {
   "cell_type": "markdown",
   "metadata": {},
   "source": [
    "6 Write a program for a matchstick game being played between the computer and a user. Your\n",
    "program should ensure that the computer always wins. Rules for the game are as follows:\n",
    "\n",
    "• There are 21 matchsticks.\n",
    "\n",
    "• The computer asks the player to pick 1, 2, 3, or 4 matchsticks.\n",
    "\n",
    "• After the person picks, the computer does its picking.\n",
    "\n",
    "• Whoever is forced to pick up the last matchstick loses the game.\n"
   ]
  },
  {
   "cell_type": "code",
   "execution_count": null,
   "metadata": {},
   "outputs": [],
   "source": []
  },
  {
   "cell_type": "markdown",
   "metadata": {},
   "source": [
    "7 Write a program to enter the numbers till the user wants and at the end it should display the count\n",
    "of positive, negative and zeros entered.\n"
   ]
  },
  {
   "cell_type": "code",
   "execution_count": null,
   "metadata": {},
   "outputs": [],
   "source": []
  },
  {
   "cell_type": "markdown",
   "metadata": {},
   "source": [
    "8 Write a program to find the octal equivalent of the entered number.\n"
   ]
  },
  {
   "cell_type": "code",
   "execution_count": null,
   "metadata": {},
   "outputs": [],
   "source": []
  },
  {
   "cell_type": "markdown",
   "metadata": {},
   "source": [
    "9 Write a program to print all prime numbers from 1 to 300. (Hint: Use nested loops, break and\n",
    "continue)\n"
   ]
  },
  {
   "cell_type": "code",
   "execution_count": null,
   "metadata": {},
   "outputs": [],
   "source": []
  },
  {
   "cell_type": "markdown",
   "metadata": {},
   "source": [
    "10 Write a program to find the range of a set of numbers. Range is the difference between the\n",
    "smallest and biggest number in the list.\n"
   ]
  },
  {
   "cell_type": "code",
   "execution_count": null,
   "metadata": {},
   "outputs": [],
   "source": []
  },
  {
   "cell_type": "markdown",
   "metadata": {},
   "source": [
    "11 Write a program to fill the entire screen with a smiling face. The smiling face has an ASCII value\n"
   ]
  },
  {
   "cell_type": "code",
   "execution_count": null,
   "metadata": {},
   "outputs": [],
   "source": []
  },
  {
   "cell_type": "markdown",
   "metadata": {},
   "source": [
    "1\n",
    "12 Write a program to add first seven terms of the following series using a for loop: 1\n",
    "1!\n",
    "+\n",
    "2\n",
    "2!\n",
    "+\n",
    "3\n",
    "3!\n",
    "+\n",
    "\n",
    "⋯ +\n",
    "n\n",
    "n!\n"
   ]
  },
  {
   "cell_type": "code",
   "execution_count": null,
   "metadata": {},
   "outputs": [],
   "source": []
  },
  {
   "cell_type": "markdown",
   "metadata": {},
   "source": [
    "\n",
    "13 Write a program to generate all combinations of 1, 2 and 3 using for loop.\n"
   ]
  },
  {
   "cell_type": "code",
   "execution_count": null,
   "metadata": {},
   "outputs": [],
   "source": []
  },
  {
   "cell_type": "markdown",
   "metadata": {},
   "source": [
    "14 A machine is purchased which will produce earning of Rs. 1000 per year while it lasts. The\n",
    "machine costs Rs. 6000 and will have a salvage of Rs. 2000 when it is condemned. If 12 percent\n",
    "per annum can be earned on alternate investments what would be the minimum life of the\n",
    "machine to make it a more attractive investment compared to alternative investment?\n",
    "15 When interest compounds q times per year at an annual rate of r % for n years, the principle p\n",
    "compounds to an amount a as per the following formula. Write a program to read 10 sets of p, r,\n",
    "n & q and calculate the corresponding as.\n",
    "\n",
    "a = p(1+r/q)**np"
   ]
  },
  {
   "cell_type": "code",
   "execution_count": null,
   "metadata": {},
   "outputs": [],
   "source": []
  }
 ],
 "metadata": {
  "language_info": {
   "name": "python"
  }
 },
 "nbformat": 4,
 "nbformat_minor": 2
}
